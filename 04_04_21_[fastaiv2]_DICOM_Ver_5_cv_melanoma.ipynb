{
  "nbformat": 4,
  "nbformat_minor": 0,
  "metadata": {
    "colab": {
      "name": "04.04.21-[fastaiv2]-DICOM-Ver.5-cv-melanoma.ipynb",
      "provenance": [],
      "collapsed_sections": [
        "Tq6-sTizQHsE",
        "dfBsuAkWiKur",
        "oaZqodkCQHsK",
        "lGSmZY6TQHsP",
        "GfhHAH65EDas"
      ]
    },
    "kernelspec": {
      "display_name": "Python 3",
      "language": "python",
      "name": "python3"
    },
    "language_info": {
      "codemirror_mode": {
        "name": "ipython",
        "version": 3
      },
      "file_extension": ".py",
      "mimetype": "text/x-python",
      "name": "python",
      "nbconvert_exporter": "python",
      "pygments_lexer": "ipython3",
      "version": "3.7.6"
    }
  },
  "cells": [
    {
      "cell_type": "markdown",
      "metadata": {
        "id": "bODMf2MDQHrz"
      },
      "source": [
        "# Notes\n",
        "\n",
        "### Option 1: DICOM files\n",
        "#### 2021\n",
        "* Version 5: \n",
        "- adding roc_auc to metrics\n",
        "- import gc for performance\n",
        "- \n",
        "\n",
        "* 30.03.2021: no GPU Supoort for fastaiV2, training super long\n",
        "* 02.04.2021: move to colab\n",
        "\n",
        "#### 2020\n",
        "* 29.06.2020: NEW Notebook in GDrive w Colab\n",
        "* 30.06.2020\n",
        "    - switcht to Kaggle since dataset to big for gDrive\n",
        "    - lr_find 2.5hours -> image Resize 128 -> 64 / bs 32 -> 16, sample 100 -> 50\n",
        "\n",
        "DICOM Files Start\n",
        "https://www.kaggle.com/avirdee/fastai2-dicom-starter/notebook\n",
        "\n",
        "### Option 2: with JPEG (see colab)\n",
        "\n",
        "\n",
        "### Option 3: different tfrecord dataset (in various size available)\n",
        "https://www.kaggle.com/cdeotte/melanoma-256x256\n",
        "\n"
      ]
    },
    {
      "cell_type": "markdown",
      "metadata": {
        "id": "UWwG56dfQHsA"
      },
      "source": [
        "## 1. Setup"
      ]
    },
    {
      "cell_type": "code",
      "metadata": {
        "id": "QCNP-Kn6QHsA",
        "colab": {
          "base_uri": "https://localhost:8080/"
        },
        "outputId": "cd24af63-b5a9-4ff8-c7b1-9f000a3232fe"
      },
      "source": [
        "!pip install pydicom kornia opencv-python scikit-image nbdev\n",
        "!pip install fastcore\n",
        "#Install/upgrade fastai package\n",
        "!pip install --upgrade fastai"
      ],
      "execution_count": 1,
      "outputs": [
        {
          "output_type": "stream",
          "text": [
            "      Successfully uninstalled torch-1.8.1+cu101\n",
            "  Found existing installation: torchvision 0.9.1+cu101\n",
            "    Uninstalling torchvision-0.9.1+cu101:\n",
            "      Successfully uninstalled torchvision-0.9.1+cu101\n",
            "  Found existing installation: fastai 1.0.61\n",
            "    Uninstalling fastai-1.0.61:\n",
            "      Successfully uninstalled fastai-1.0.61\n",
            "Successfully installed fastai-2.3.0 torch-1.7.1 torchvision-0.8.2\n"
          ],
          "name": "stdout"
        }
      ]
    },
    {
      "cell_type": "code",
      "metadata": {
        "id": "BBZidOi395Pk",
        "colab": {
          "base_uri": "https://localhost:8080/"
        },
        "outputId": "23e07664-2b1e-43e6-90b5-65c98b845de7"
      },
      "source": [
        "!pip install -Uqq fastbook"
      ],
      "execution_count": 2,
      "outputs": [
        {
          "output_type": "stream",
          "text": [
            "\u001b[K     |████████████████████████████████| 727kB 4.2MB/s \n",
            "\u001b[K     |████████████████████████████████| 1.2MB 7.5MB/s \n",
            "\u001b[?25h"
          ],
          "name": "stdout"
        }
      ]
    },
    {
      "cell_type": "markdown",
      "metadata": {
        "id": "GR7HnICs9NM_"
      },
      "source": [
        "### performance hacks"
      ]
    },
    {
      "cell_type": "code",
      "metadata": {
        "id": "QB6Hs5FFonoG"
      },
      "source": [
        "# get more RAM\n",
        "# i = []\n",
        "# while(True):\n",
        "#     i.append('a')\n",
        "\n",
        "# not working. no pop_up windows where you can click \"get more RAM\" :()"
      ],
      "execution_count": null,
      "outputs": []
    },
    {
      "cell_type": "code",
      "metadata": {
        "id": "yLG9ea2L9LPp"
      },
      "source": [
        "# add this to console so colab does not disconnect since idle"
      ],
      "execution_count": null,
      "outputs": []
    },
    {
      "cell_type": "code",
      "metadata": {
        "id": "uduMP8ADoxka"
      },
      "source": [
        "# function KeepClicking(){\n",
        "#    console.log(\"Clicking\");\n",
        "#    document.querySelector(\"colab-toolbar-button#connect\").click()\n",
        "# }setInterval(KeepClicking,60000)"
      ],
      "execution_count": null,
      "outputs": []
    },
    {
      "cell_type": "markdown",
      "metadata": {
        "id": "FtHkL0E_9RfU"
      },
      "source": [
        "### load dependencies etc."
      ]
    },
    {
      "cell_type": "code",
      "metadata": {
        "id": "A52bgpLt-Er4",
        "colab": {
          "base_uri": "https://localhost:8080/"
        },
        "outputId": "995b9af4-a7d6-4111-ffe1-2f54f91ec587"
      },
      "source": [
        "# connect to GoogleDrive\n",
        "import fastbook\n",
        "fastbook.setup_book()"
      ],
      "execution_count": 4,
      "outputs": [
        {
          "output_type": "stream",
          "text": [
            "Go to this URL in a browser: https://accounts.google.com/o/oauth2/auth?client_id=947318989803-6bn6qk8qdgf4n4g3pfee6491hc0brc4i.apps.googleusercontent.com&redirect_uri=urn%3aietf%3awg%3aoauth%3a2.0%3aoob&scope=email%20https%3a%2f%2fwww.googleapis.com%2fauth%2fdocs.test%20https%3a%2f%2fwww.googleapis.com%2fauth%2fdrive%20https%3a%2f%2fwww.googleapis.com%2fauth%2fdrive.photos.readonly%20https%3a%2f%2fwww.googleapis.com%2fauth%2fpeopleapi.readonly%20https%3a%2f%2fwww.googleapis.com%2fauth%2fdrive.activity.readonly%20https%3a%2f%2fwww.googleapis.com%2fauth%2fexperimentsandconfigs%20https%3a%2f%2fwww.googleapis.com%2fauth%2fphotos.native&response_type=code\n",
            "\n",
            "Enter your authorization code:\n",
            "4/1AY0e-g5rCcNPrhtNMuxYBKolv5Kysc8oyT7L3CWGBBxrI_sCwYUgIO_VDoQ\n",
            "Mounted at /content/gdrive\n"
          ],
          "name": "stdout"
        }
      ]
    },
    {
      "cell_type": "code",
      "metadata": {
        "colab": {
          "base_uri": "https://localhost:8080/"
        },
        "id": "EI7dGwL3QHsD",
        "outputId": "a9d26ea9-7232-4e02-a625-8bf925c8f48f"
      },
      "source": [
        "%reload_ext autoreload\n",
        "%autoreload 2\n",
        "%matplotlib inline\n",
        "\n",
        "# load dependancies\n",
        "import torch, torchvision\n",
        "import fastcore\n",
        "import fastai\n",
        "from fastai.basics import *\n",
        "from fastai.data.all import *\n",
        "from fastai.callback.all import *\n",
        "from fastai.vision.all import *\n",
        "from fastai.medical.imaging import *\n",
        "\n",
        "import pydicom\n",
        "\n",
        "import seaborn as sns\n",
        "\n",
        "import numpy as np\n",
        "import pandas as pd\n",
        "import os\n",
        "\n",
        "\n",
        "print(f'Notebook last run on {datetime.fromtimestamp(time.time()).strftime(\"%Y-%m-%d, %H:%M:%S UTC\")}')\n",
        "print('Using fastai version ',fastai.__version__)\n",
        "print(f'fastcore version {fastcore.__version__} installed.')\n",
        "print('And torch version ',torch.__version__)\n",
        "print(\"PyDicom\", pydicom.__version__)\n",
        "# print(\"GPU available\", torch.cuda.is_available())\n",
        "# print(\" GPU\", torch.cuda.get_device_name(0))\n",
        "# print(\"GPU \", torch.backends.cudnn.enabled)\n",
        "\n",
        "\n",
        "# ignore warnings\n",
        "import warnings\n",
        "warnings.filterwarnings('ignore')\n",
        "warnings.filterwarnings(\"ignore\", category=UserWarning, module=\"torch.nn.functional\")"
      ],
      "execution_count": 5,
      "outputs": [
        {
          "output_type": "stream",
          "text": [
            "Notebook last run on 2021-04-04, 04:43:46 UTC\n",
            "Using fastai version  2.3.0\n",
            "fastcore version 1.3.19 installed.\n",
            "And torch version  1.7.1\n",
            "PyDicom 2.1.2\n"
          ],
          "name": "stdout"
        }
      ]
    },
    {
      "cell_type": "code",
      "metadata": {
        "id": "90K-L4xs9dVt"
      },
      "source": [
        "## for reproducability set seed\n",
        "def seed_everything(seed=0):\n",
        "  random.seed(seed)\n",
        "  os.environ[\"PYTHONHASHSEED\"] = str(seed)\n",
        "  np.random.seed(seed)\n",
        "  torch.manual_seed(seed)\n",
        "  torch.cuda.manual_seed(seed)\n",
        "  torch.backends.cudnn.deterministic = True\n",
        "seed_everything()"
      ],
      "execution_count": null,
      "outputs": []
    },
    {
      "cell_type": "code",
      "metadata": {
        "id": "-g8Y3sEFRNvr"
      },
      "source": [
        "# Setup Kaggle\n",
        "\n",
        "# # connect kaggle\n",
        "# from google.colab import files\n",
        "# files.upload()\n",
        "\n",
        "# !mkdir -p ~/.kaggle\n",
        "# !cp kaggle.json ~/.kaggle/\n",
        "# !chmod 600 ~/.kaggle/kaggle.json\n"
      ],
      "execution_count": null,
      "outputs": []
    },
    {
      "cell_type": "markdown",
      "metadata": {
        "id": "Tq6-sTizQHsE"
      },
      "source": [
        "## 2. Data\n",
        "\n",
        "* using DICOM files from train folder"
      ]
    },
    {
      "cell_type": "code",
      "metadata": {
        "colab": {
          "base_uri": "https://localhost:8080/"
        },
        "id": "S2CDL0QgQHsE",
        "outputId": "c508901d-4a87-4bd3-cc30-932fa9bb55a1"
      },
      "source": [
        "path = Path('/content/gdrive/MyDrive/Colab Notebooks/kaggle/melanoma')\n",
        "dicom_path = os.path.join(path, 'DICOM')\n",
        "# dicom_path = Path('/content/gdrive/MyDrive/Colab Notebooks/kaggle/melanoma/DICOM')\n",
        "print(path)\n",
        "print(dicom_path)\n",
        "# files = os.listdir(path)"
      ],
      "execution_count": null,
      "outputs": [
        {
          "output_type": "stream",
          "text": [
            "/content/gdrive/MyDrive/Colab Notebooks/kaggle/melanoma\n",
            "/content/gdrive/MyDrive/Colab Notebooks/kaggle/melanoma/DICOM\n"
          ],
          "name": "stdout"
        }
      ]
    },
    {
      "cell_type": "markdown",
      "metadata": {
        "id": "dfBsuAkWiKur"
      },
      "source": [
        "### 2.1 Get data \n",
        "run only once"
      ]
    },
    {
      "cell_type": "code",
      "metadata": {
        "id": "bxn7dmZJSiA0"
      },
      "source": [
        "### Get partial Data (since Dataset w. 100+GB to big)\n",
        "\n",
        "# !kaggle competitions list -s siim"
      ],
      "execution_count": null,
      "outputs": []
    },
    {
      "cell_type": "code",
      "metadata": {
        "id": "hv6Hp256U1dC"
      },
      "source": [
        "# !pip install wget"
      ],
      "execution_count": null,
      "outputs": []
    },
    {
      "cell_type": "code",
      "metadata": {
        "id": "uu7gFNL9SXXE"
      },
      "source": [
        "## workaround to download only part of dataset\n",
        "# import wget\n",
        "# import zipfile as zf\n",
        "\n",
        "# url = \"https://storage.googleapis.com/kaggle-competitions-data/kaggle-v2/20270/1222630/compressed/train.zip?GoogleAccessId=web-data@kaggle-161607.iam.gserviceaccount.com&Expires=1617571181&Signature=SsQA86XYEjTMGnUs27nnNTAcl9n%2BrY%2FJH1Csj08he1XQj%2F4iq6rR2xHuzgp0cF%2FHxqHUpjab2iNtcaydVBmGTXq7rneKFfEoTKkhORO8nJkPGbBhQCz2IOwFlpibpYh1EZlAdhmsvnyUccHp6tqq%2Bph59q9sSafm%2B8gh7jRIBH6Y5xOrpHxgy81NVs9h%2FUHllCDBf%2F2NZxIaTiynleYG9zzV30HoQ3pM6SHeLYB1VZnkR9V%2BUTFLcze%2FNFjxxrWW92%2B49edLE1SkKzIMYMLHbbf7AoMMK3UAvkwxmktJmSJujFzBxugiVzMry2A5chagUsXSVw2Fp9eHH880FbR2Aw%3D%3D&response-content-disposition=attachment%3B+filename%3Dtrain.zip\"\n",
        "# path_dicom = path/'DICOM'\n",
        "# wget.download(url , '/content/gdrive/MyDrive/Colab Notebooks/kaggle/melanoma/DICOM/train.zip')\n"
      ],
      "execution_count": null,
      "outputs": []
    },
    {
      "cell_type": "code",
      "metadata": {
        "id": "qzAfepzvVWYd"
      },
      "source": [
        "# unzip\n",
        "# dicom_images = Path(path/'dicom_train.zip')\n",
        "\n",
        "# # # not enough space on gdrive for extraction / 04.01.2021\n",
        "# with zipfile.ZipFile(dicom_images, 'r') as zip_ref:\n",
        "#   zip_ref.extractall(dicom_path)"
      ],
      "execution_count": null,
      "outputs": []
    },
    {
      "cell_type": "code",
      "metadata": {
        "id": "mg8ycPYKVEzV"
      },
      "source": [
        "# Download only DICOM relevant csv files\n",
        "# !kaggle competitions download -c \"siim-isic-melanoma-classification\" -f test.csv\n",
        "# !kaggle competitions download -c \"siim-isic-melanoma-classification\" -p 'sample_data/melanoma-data' -f test.csv"
      ],
      "execution_count": null,
      "outputs": []
    },
    {
      "cell_type": "markdown",
      "metadata": {
        "id": "fbqYz50kzwbO"
      },
      "source": [
        "### 2.2. Check images and data"
      ]
    },
    {
      "cell_type": "code",
      "metadata": {
        "colab": {
          "base_uri": "https://localhost:8080/"
        },
        "id": "bjFkuyEUejKN",
        "outputId": "397ad2de-4a1f-4477-91c9-af268a04a29d"
      },
      "source": [
        "dicom_img = os.listdir(dicom_path)\n",
        "len(dicom_img)"
      ],
      "execution_count": null,
      "outputs": [
        {
          "output_type": "execute_result",
          "data": {
            "text/plain": [
              "22202"
            ]
          },
          "metadata": {
            "tags": []
          },
          "execution_count": 9
        }
      ]
    },
    {
      "cell_type": "code",
      "metadata": {
        "id": "jRxu3cuaV2JW"
      },
      "source": [
        "# check if only dicom files in folder\n",
        "assert len(glob.glob(os.path.join(dicom_path, '*.dcm'))) == len(os.listdir(dicom_path))"
      ],
      "execution_count": null,
      "outputs": []
    },
    {
      "cell_type": "code",
      "metadata": {
        "colab": {
          "base_uri": "https://localhost:8080/"
        },
        "id": "MietsmwkQHsF",
        "outputId": "272517bb-98ea-4824-f17f-9f77a45286ef"
      },
      "source": [
        "# only 1/3 of DICOM dataset since limited space on Colab\n",
        "\n",
        "train = dicom_path\n",
        "train_files = get_dicom_files(train)\n",
        "train_files"
      ],
      "execution_count": null,
      "outputs": [
        {
          "output_type": "execute_result",
          "data": {
            "text/plain": [
              "(#22202) [Path('/content/gdrive/MyDrive/Colab Notebooks/kaggle/melanoma/DICOM/ISIC_4734627.dcm'),Path('/content/gdrive/MyDrive/Colab Notebooks/kaggle/melanoma/DICOM/ISIC_4734111.dcm'),Path('/content/gdrive/MyDrive/Colab Notebooks/kaggle/melanoma/DICOM/ISIC_4735106.dcm'),Path('/content/gdrive/MyDrive/Colab Notebooks/kaggle/melanoma/DICOM/ISIC_4734950.dcm'),Path('/content/gdrive/MyDrive/Colab Notebooks/kaggle/melanoma/DICOM/ISIC_4735120.dcm'),Path('/content/gdrive/MyDrive/Colab Notebooks/kaggle/melanoma/DICOM/ISIC_4735699.dcm'),Path('/content/gdrive/MyDrive/Colab Notebooks/kaggle/melanoma/DICOM/ISIC_4735959.dcm'),Path('/content/gdrive/MyDrive/Colab Notebooks/kaggle/melanoma/DICOM/ISIC_4735706.dcm'),Path('/content/gdrive/MyDrive/Colab Notebooks/kaggle/melanoma/DICOM/ISIC_4737109.dcm'),Path('/content/gdrive/MyDrive/Colab Notebooks/kaggle/melanoma/DICOM/ISIC_4736149.dcm')...]"
            ]
          },
          "metadata": {
            "tags": []
          },
          "execution_count": 11
        }
      ]
    },
    {
      "cell_type": "code",
      "metadata": {
        "id": "sVqI_hCKQHsF"
      },
      "source": [
        "# Check img \n",
        "patient1 = (train_files[7])\n",
        "dimg = patient1.dcmread()\n",
        "# dimg"
      ],
      "execution_count": null,
      "outputs": []
    },
    {
      "cell_type": "code",
      "metadata": {
        "id": "DQ9kUIGHQHsG"
      },
      "source": [
        "# create function to display dicom image and specific tags of DICOM Header\n",
        "def show_one_patient(file):\n",
        "    pat = file.dcmread()\n",
        "    print(f'patient Name {pat.PatientName}')\n",
        "    print(f'patient ID {pat.PatientID}')\n",
        "    print(f'patient Age {pat.PatientAge}')\n",
        "    print(f'patient Sex {pat.PatientSex}')\n",
        "\n",
        "    trans = Transform(Resize(256))\n",
        "    dicom_create = PILDicom.create(str(file))\n",
        "    dicom_transform = trans(dicom_create)\n",
        "    return show_image(dicom_transform)"
      ],
      "execution_count": null,
      "outputs": []
    },
    {
      "cell_type": "code",
      "metadata": {
        "colab": {
          "base_uri": "https://localhost:8080/",
          "height": 387
        },
        "id": "l_rxZAxAQHsI",
        "outputId": "bc8383d0-0f34-4488-873a-9e1d3ed1fab5"
      },
      "source": [
        "show_one_patient(train_files[7])"
      ],
      "execution_count": null,
      "outputs": [
        {
          "output_type": "stream",
          "text": [
            "patient Name \"ISIC^4735706\"\n",
            "patient ID \"ISIC_4735706\"\n",
            "patient Age 040Y\n",
            "patient Sex F\n"
          ],
          "name": "stdout"
        },
        {
          "output_type": "execute_result",
          "data": {
            "text/plain": [
              "<matplotlib.axes._subplots.AxesSubplot at 0x7fc1f9294dd0>"
            ]
          },
          "metadata": {
            "tags": []
          },
          "execution_count": 14
        },
        {
          "output_type": "display_data",
          "data": {
            "image/png": "[encoded data removed]",
            "text/plain": [
              "<Figure size 360x360 with 1 Axes>"
            ]
          },
          "metadata": {
            "tags": []
          }
        }
      ]
    },
    {
      "cell_type": "code",
      "metadata": {
        "colab": {
          "base_uri": "https://localhost:8080/",
          "height": 257
        },
        "id": "0G_3MA7dQHsJ",
        "outputId": "6d87d535-9622-4b75-c834-19616a843b84"
      },
      "source": [
        "# transform from colorspace YBR_FULL_422 format to RGB\n",
        "from pydicom.pixel_data_handlers.util import convert_color_space\n",
        "\n",
        "arr = dimg.pixel_array\n",
        "convert = convert_color_space(arr, 'YBR_FULL_422', \"RGB\")\n",
        "show_image(convert)"
      ],
      "execution_count": null,
      "outputs": [
        {
          "output_type": "execute_result",
          "data": {
            "text/plain": [
              "<matplotlib.axes._subplots.AxesSubplot at 0x7fc1f8d082d0>"
            ]
          },
          "metadata": {
            "tags": []
          },
          "execution_count": 15
        },
        {
          "output_type": "display_data",
          "data": {
            "image/png": "[encoded data removed]",
            "text/plain": [
              "<Figure size 360x360 with 1 Axes>"
            ]
          },
          "metadata": {
            "tags": []
          }
        }
      ]
    },
    {
      "cell_type": "code",
      "metadata": {
        "id": "NcfKYJUXQHsJ"
      },
      "source": [
        "# view pixel distribution\n",
        "# px = dimg.pixels.flatten()\n",
        "# plt.hist(px, color='orange')"
      ],
      "execution_count": null,
      "outputs": []
    },
    {
      "cell_type": "code",
      "metadata": {
        "colab": {
          "base_uri": "https://localhost:8080/",
          "height": 196
        },
        "id": "ovwgG9ScQHsK",
        "outputId": "39065b0b-eb00-431c-a051-7098ee184fb2"
      },
      "source": [
        "df = pd.read_csv(path/'train.csv')\n",
        "df.head()"
      ],
      "execution_count": null,
      "outputs": [
        {
          "output_type": "execute_result",
          "data": {
            "text/html": [
              "<div>\n",
              "<style scoped>\n",
              "    .dataframe tbody tr th:only-of-type {\n",
              "        vertical-align: middle;\n",
              "    }\n",
              "\n",
              "    .dataframe tbody tr th {\n",
              "        vertical-align: top;\n",
              "    }\n",
              "\n",
              "    .dataframe thead th {\n",
              "        text-align: right;\n",
              "    }\n",
              "</style>\n",
              "<table border=\"1\" class=\"dataframe\">\n",
              "  <thead>\n",
              "    <tr style=\"text-align: right;\">\n",
              "      <th></th>\n",
              "      <th>image_name</th>\n",
              "      <th>patient_id</th>\n",
              "      <th>sex</th>\n",
              "      <th>age_approx</th>\n",
              "      <th>anatom_site_general_challenge</th>\n",
              "      <th>diagnosis</th>\n",
              "      <th>benign_malignant</th>\n",
              "      <th>target</th>\n",
              "    </tr>\n",
              "  </thead>\n",
              "  <tbody>\n",
              "    <tr>\n",
              "      <th>0</th>\n",
              "      <td>ISIC_2637011</td>\n",
              "      <td>IP_7279968</td>\n",
              "      <td>male</td>\n",
              "      <td>45.0</td>\n",
              "      <td>head/neck</td>\n",
              "      <td>unknown</td>\n",
              "      <td>benign</td>\n",
              "      <td>0</td>\n",
              "    </tr>\n",
              "    <tr>\n",
              "      <th>1</th>\n",
              "      <td>ISIC_0015719</td>\n",
              "      <td>IP_3075186</td>\n",
              "      <td>female</td>\n",
              "      <td>45.0</td>\n",
              "      <td>upper extremity</td>\n",
              "      <td>unknown</td>\n",
              "      <td>benign</td>\n",
              "      <td>0</td>\n",
              "    </tr>\n",
              "    <tr>\n",
              "      <th>2</th>\n",
              "      <td>ISIC_0052212</td>\n",
              "      <td>IP_2842074</td>\n",
              "      <td>female</td>\n",
              "      <td>50.0</td>\n",
              "      <td>lower extremity</td>\n",
              "      <td>nevus</td>\n",
              "      <td>benign</td>\n",
              "      <td>0</td>\n",
              "    </tr>\n",
              "    <tr>\n",
              "      <th>3</th>\n",
              "      <td>ISIC_0068279</td>\n",
              "      <td>IP_6890425</td>\n",
              "      <td>female</td>\n",
              "      <td>45.0</td>\n",
              "      <td>head/neck</td>\n",
              "      <td>unknown</td>\n",
              "      <td>benign</td>\n",
              "      <td>0</td>\n",
              "    </tr>\n",
              "    <tr>\n",
              "      <th>4</th>\n",
              "      <td>ISIC_0074268</td>\n",
              "      <td>IP_8723313</td>\n",
              "      <td>female</td>\n",
              "      <td>55.0</td>\n",
              "      <td>upper extremity</td>\n",
              "      <td>unknown</td>\n",
              "      <td>benign</td>\n",
              "      <td>0</td>\n",
              "    </tr>\n",
              "  </tbody>\n",
              "</table>\n",
              "</div>"
            ],
            "text/plain": [
              "     image_name  patient_id     sex  age_approx anatom_site_general_challenge  \\\n",
              "0  ISIC_2637011  IP_7279968    male        45.0                     head/neck   \n",
              "1  ISIC_0015719  IP_3075186  female        45.0               upper extremity   \n",
              "2  ISIC_0052212  IP_2842074  female        50.0               lower extremity   \n",
              "3  ISIC_0068279  IP_6890425  female        45.0                     head/neck   \n",
              "4  ISIC_0074268  IP_8723313  female        55.0               upper extremity   \n",
              "\n",
              "  diagnosis benign_malignant  target  \n",
              "0   unknown           benign       0  \n",
              "1   unknown           benign       0  \n",
              "2     nevus           benign       0  \n",
              "3   unknown           benign       0  \n",
              "4   unknown           benign       0  "
            ]
          },
          "metadata": {
            "tags": []
          },
          "execution_count": 17
        }
      ]
    },
    {
      "cell_type": "code",
      "metadata": {
        "colab": {
          "base_uri": "https://localhost:8080/"
        },
        "id": "zFyXuMqHil7z",
        "outputId": "32cc8c45-eb1a-43ab-90a8-234f6d949433"
      },
      "source": [
        "df.shape"
      ],
      "execution_count": null,
      "outputs": [
        {
          "output_type": "execute_result",
          "data": {
            "text/plain": [
              "(33126, 8)"
            ]
          },
          "metadata": {
            "tags": []
          },
          "execution_count": 18
        }
      ]
    },
    {
      "cell_type": "code",
      "metadata": {
        "id": "BMNxu8HYkjrB"
      },
      "source": [
        "####################\n",
        "# since only partial train set download\n",
        "# -> create df with only img names in DICOM dir\n",
        "####################\n",
        "df_test = df.copy()\n",
        "df_test = df_test[:-2] #since unzip interupted since lack of space, last files might be corupted\n",
        "\n",
        "img_list_part = os.listdir(dicom_path)\n",
        "len(img_list_part)\n",
        "\n",
        "mapping = {f.split(\".\")[0]: f for f in img_list_part}\n",
        "\n",
        "df_test['image_file'] = pd.Series() # create empty new column in df\n",
        "\n",
        "for img_name, img_file in mapping.items():\n",
        "  df_test.loc[df_test.image_name == img_name, 'image_file'] = img_file"
      ],
      "execution_count": null,
      "outputs": []
    },
    {
      "cell_type": "code",
      "metadata": {
        "colab": {
          "base_uri": "https://localhost:8080/"
        },
        "id": "Is01FCh91pun",
        "outputId": "807bb1e3-aa80-47e0-9639-c7d6a5f50fbe"
      },
      "source": [
        "df_test.tail()\n",
        "print(df_test.shape)"
      ],
      "execution_count": null,
      "outputs": [
        {
          "output_type": "stream",
          "text": [
            "(33124, 9)\n"
          ],
          "name": "stdout"
        }
      ]
    },
    {
      "cell_type": "code",
      "metadata": {
        "colab": {
          "base_uri": "https://localhost:8080/"
        },
        "id": "HoWH0jBN2Cfr",
        "outputId": "66ff40aa-f775-40b9-ee67-900293e6bb9b"
      },
      "source": [
        "df_partial = df_test[df_test['image_file'].notnull()]\n",
        "df_partial.shape"
      ],
      "execution_count": null,
      "outputs": [
        {
          "output_type": "execute_result",
          "data": {
            "text/plain": [
              "(22202, 9)"
            ]
          },
          "metadata": {
            "tags": []
          },
          "execution_count": 21
        }
      ]
    },
    {
      "cell_type": "code",
      "metadata": {
        "id": "8vmSzq290iLS"
      },
      "source": [
        "#########################\n",
        "## for testing\n",
        "#########################\n",
        "\n",
        "# create dataframe from dicom files\n",
        "# see : https://docs.fast.ai/tutorial.medical_imaging.html\n",
        "\n",
        "# items = get_dicom_files(dicom_path)\n",
        "# items\n",
        "# # dicom_df = pd.DataFrame.from_dicoms(items)\n",
        "# # dicom_df[:5]\n",
        "# # dicom_dataframe = pd.DataFrame.from_dicoms(items)\n",
        "# dicom_dataframe[:5]"
      ],
      "execution_count": null,
      "outputs": []
    },
    {
      "cell_type": "markdown",
      "metadata": {
        "id": "oaZqodkCQHsK"
      },
      "source": [
        "### 2.2 EDA\n"
      ]
    },
    {
      "cell_type": "code",
      "metadata": {
        "id": "hB1VAOOkQHsL"
      },
      "source": [
        "sns.set(style = 'whitegrid')\n",
        "sns.set_context('paper')\n",
        "sns.set_palette('Blues')"
      ],
      "execution_count": null,
      "outputs": []
    },
    {
      "cell_type": "code",
      "metadata": {
        "id": "z-kooKjhQHsL"
      },
      "source": [
        "# create Plot to compare features\n",
        "\n",
        "def plot_comparison(df, feature1, feature2, feature3):\n",
        "    fig, (ax1, ax2, ax3) = plt.subplots(1,3, figsize=(20, 8))\n",
        "    \n",
        "    s1 = sns.countplot(df[feature1], ax=ax1)\n",
        "    s1.set_title(feature1)\n",
        "    \n",
        "    s2 = sns.countplot(df[feature2], ax=ax2)\n",
        "    s2.set_title(feature2)\n",
        "    \n",
        "    s3 = sns.countplot(df[feature3], ax= ax3)\n",
        "    s3.set_title(feature3)\n",
        "    \n",
        "    plt.show()"
      ],
      "execution_count": null,
      "outputs": []
    },
    {
      "cell_type": "code",
      "metadata": {
        "id": "FqaMKWf_QHsM"
      },
      "source": [
        "# plot_comparison(df, \"sex\", 'age_approx', 'benign_malignant')\n",
        "# plot_comparison(df_partial, \"sex\", 'age_approx', 'benign_malignant')"
      ],
      "execution_count": null,
      "outputs": []
    },
    {
      "cell_type": "code",
      "metadata": {
        "id": "HHzUldKEQHsM"
      },
      "source": [
        "def plot_comparison1(df, feature):\n",
        "    \n",
        "    fig, (ax) = plt.subplots(1,1, figsize=(20, 8))\n",
        "    \n",
        "    s1 = sns.countplot(df[feature], ax = ax)\n",
        "    s1.set_title(feature)\n",
        "    \n",
        "    plt.show()"
      ],
      "execution_count": null,
      "outputs": []
    },
    {
      "cell_type": "code",
      "metadata": {
        "colab": {
          "base_uri": "https://localhost:8080/"
        },
        "id": "FOZBMHynQHsN",
        "outputId": "694b3ecc-8c41-4cc2-a192-7db43a6b40ec"
      },
      "source": [
        "plot_comparison1(df_partial, 'diagnosis')"
      ],
      "execution_count": null,
      "outputs": [
        {
          "output_type": "display_data",
          "data": {
            "image/png": "[encoded data removed]",
            "text/plain": [
              "<Figure size 1440x576 with 1 Axes>"
            ]
          },
          "metadata": {
            "tags": []
          }
        }
      ]
    },
    {
      "cell_type": "code",
      "metadata": {
        "colab": {
          "base_uri": "https://localhost:8080/"
        },
        "id": "PImHBfBhQHsN",
        "outputId": "ec31a776-5fcf-4f06-9c09-d1b192352d8c"
      },
      "source": [
        "plot_comparison1(df, 'target')"
      ],
      "execution_count": null,
      "outputs": [
        {
          "output_type": "display_data",
          "data": {
            "image/png": "[encoded data removed]",
            "text/plain": [
              "<Figure size 1440x576 with 1 Axes>"
            ]
          },
          "metadata": {
            "tags": []
          }
        }
      ]
    },
    {
      "cell_type": "code",
      "metadata": {
        "colab": {
          "base_uri": "https://localhost:8080/",
          "height": 196
        },
        "id": "2UgqcsVdQHsO",
        "outputId": "ebdd099a-3113-445a-eb4b-dcf0ec53f048"
      },
      "source": [
        "## Dataframe for EDA \n",
        "eda_df = df_partial[['sex', 'age_approx', 'anatom_site_general_challenge', 'diagnosis', 'target']]\n",
        "eda_df.head()"
      ],
      "execution_count": null,
      "outputs": [
        {
          "output_type": "execute_result",
          "data": {
            "text/html": [
              "<div>\n",
              "<style scoped>\n",
              "    .dataframe tbody tr th:only-of-type {\n",
              "        vertical-align: middle;\n",
              "    }\n",
              "\n",
              "    .dataframe tbody tr th {\n",
              "        vertical-align: top;\n",
              "    }\n",
              "\n",
              "    .dataframe thead th {\n",
              "        text-align: right;\n",
              "    }\n",
              "</style>\n",
              "<table border=\"1\" class=\"dataframe\">\n",
              "  <thead>\n",
              "    <tr style=\"text-align: right;\">\n",
              "      <th></th>\n",
              "      <th>sex</th>\n",
              "      <th>age_approx</th>\n",
              "      <th>anatom_site_general_challenge</th>\n",
              "      <th>diagnosis</th>\n",
              "      <th>target</th>\n",
              "    </tr>\n",
              "  </thead>\n",
              "  <tbody>\n",
              "    <tr>\n",
              "      <th>0</th>\n",
              "      <td>male</td>\n",
              "      <td>45.0</td>\n",
              "      <td>head/neck</td>\n",
              "      <td>unknown</td>\n",
              "      <td>0</td>\n",
              "    </tr>\n",
              "    <tr>\n",
              "      <th>1</th>\n",
              "      <td>female</td>\n",
              "      <td>45.0</td>\n",
              "      <td>upper extremity</td>\n",
              "      <td>unknown</td>\n",
              "      <td>0</td>\n",
              "    </tr>\n",
              "    <tr>\n",
              "      <th>2</th>\n",
              "      <td>female</td>\n",
              "      <td>50.0</td>\n",
              "      <td>lower extremity</td>\n",
              "      <td>nevus</td>\n",
              "      <td>0</td>\n",
              "    </tr>\n",
              "    <tr>\n",
              "      <th>3</th>\n",
              "      <td>female</td>\n",
              "      <td>45.0</td>\n",
              "      <td>head/neck</td>\n",
              "      <td>unknown</td>\n",
              "      <td>0</td>\n",
              "    </tr>\n",
              "    <tr>\n",
              "      <th>4</th>\n",
              "      <td>female</td>\n",
              "      <td>55.0</td>\n",
              "      <td>upper extremity</td>\n",
              "      <td>unknown</td>\n",
              "      <td>0</td>\n",
              "    </tr>\n",
              "  </tbody>\n",
              "</table>\n",
              "</div>"
            ],
            "text/plain": [
              "      sex  age_approx anatom_site_general_challenge diagnosis  target\n",
              "0    male        45.0                     head/neck   unknown       0\n",
              "1  female        45.0               upper extremity   unknown       0\n",
              "2  female        50.0               lower extremity     nevus       0\n",
              "3  female        45.0                     head/neck   unknown       0\n",
              "4  female        55.0               upper extremity   unknown       0"
            ]
          },
          "metadata": {
            "tags": []
          },
          "execution_count": 25
        }
      ]
    },
    {
      "cell_type": "code",
      "metadata": {
        "colab": {
          "base_uri": "https://localhost:8080/"
        },
        "id": "7uLkRcqKQHsO",
        "outputId": "41c3d526-e889-4c0f-9f50-d418749944c4"
      },
      "source": [
        "len(eda_df)"
      ],
      "execution_count": null,
      "outputs": [
        {
          "output_type": "execute_result",
          "data": {
            "text/plain": [
              "22202"
            ]
          },
          "metadata": {
            "tags": []
          },
          "execution_count": 26
        }
      ]
    },
    {
      "cell_type": "markdown",
      "metadata": {
        "id": "lGSmZY6TQHsP"
      },
      "source": [
        "### 2.3 Data Cleaning"
      ]
    },
    {
      "cell_type": "code",
      "metadata": {
        "colab": {
          "base_uri": "https://localhost:8080/"
        },
        "id": "Wp0mCiHUQHsP",
        "outputId": "53052186-f0dd-4b17-b780-81f90d0dfdfc"
      },
      "source": [
        "# check for NAN and delete rows\n",
        "sex_na = eda_df['sex'].isna().sum()\n",
        "age_na = eda_df['age_approx'].isna().sum()\n",
        "anatom_na = eda_df['anatom_site_general_challenge'].isna().sum()\n",
        "print(f'length of eda_df {len(eda_df)}, number of NAN in sex column {sex_na} number of NAN in age column {age_na}, number of NAN in anatom column {anatom_na}')"
      ],
      "execution_count": null,
      "outputs": [
        {
          "output_type": "stream",
          "text": [
            "length of eda_df 22202, number of NAN in sex column 42 number of NAN in age column 45, number of NAN in anatom column 353\n"
          ],
          "name": "stdout"
        }
      ]
    },
    {
      "cell_type": "code",
      "metadata": {
        "colab": {
          "base_uri": "https://localhost:8080/"
        },
        "id": "1lIf8nw_QHsQ",
        "outputId": "05474fb7-1da3-4903-ec3d-dfc468cd3f3b"
      },
      "source": [
        "df_drop = eda_df.dropna()\n",
        "len(df_drop)"
      ],
      "execution_count": null,
      "outputs": [
        {
          "output_type": "execute_result",
          "data": {
            "text/plain": [
              "21804"
            ]
          },
          "metadata": {
            "tags": []
          },
          "execution_count": 28
        }
      ]
    },
    {
      "cell_type": "code",
      "metadata": {
        "colab": {
          "base_uri": "https://localhost:8080/",
          "height": 196
        },
        "id": "r_28e2cGQHsQ",
        "outputId": "f6ed4fe4-4474-4f33-e9b7-58f374256e8d"
      },
      "source": [
        "## convert categorical values to labels\n",
        "\n",
        "from sklearn.preprocessing import LabelEncoder\n",
        "\n",
        "le = LabelEncoder()\n",
        "edaa_df = df_drop.apply(lambda col: le.fit_transform(col.astype(str)), axis=0, result_type='expand')\n",
        "edaa_df.head()"
      ],
      "execution_count": null,
      "outputs": [
        {
          "output_type": "execute_result",
          "data": {
            "text/html": [
              "<div>\n",
              "<style scoped>\n",
              "    .dataframe tbody tr th:only-of-type {\n",
              "        vertical-align: middle;\n",
              "    }\n",
              "\n",
              "    .dataframe tbody tr th {\n",
              "        vertical-align: top;\n",
              "    }\n",
              "\n",
              "    .dataframe thead th {\n",
              "        text-align: right;\n",
              "    }\n",
              "</style>\n",
              "<table border=\"1\" class=\"dataframe\">\n",
              "  <thead>\n",
              "    <tr style=\"text-align: right;\">\n",
              "      <th></th>\n",
              "      <th>sex</th>\n",
              "      <th>age_approx</th>\n",
              "      <th>anatom_site_general_challenge</th>\n",
              "      <th>diagnosis</th>\n",
              "      <th>target</th>\n",
              "    </tr>\n",
              "  </thead>\n",
              "  <tbody>\n",
              "    <tr>\n",
              "      <th>0</th>\n",
              "      <td>1</td>\n",
              "      <td>8</td>\n",
              "      <td>0</td>\n",
              "      <td>8</td>\n",
              "      <td>0</td>\n",
              "    </tr>\n",
              "    <tr>\n",
              "      <th>1</th>\n",
              "      <td>0</td>\n",
              "      <td>8</td>\n",
              "      <td>5</td>\n",
              "      <td>8</td>\n",
              "      <td>0</td>\n",
              "    </tr>\n",
              "    <tr>\n",
              "      <th>2</th>\n",
              "      <td>0</td>\n",
              "      <td>9</td>\n",
              "      <td>1</td>\n",
              "      <td>5</td>\n",
              "      <td>0</td>\n",
              "    </tr>\n",
              "    <tr>\n",
              "      <th>3</th>\n",
              "      <td>0</td>\n",
              "      <td>8</td>\n",
              "      <td>0</td>\n",
              "      <td>8</td>\n",
              "      <td>0</td>\n",
              "    </tr>\n",
              "    <tr>\n",
              "      <th>4</th>\n",
              "      <td>0</td>\n",
              "      <td>10</td>\n",
              "      <td>5</td>\n",
              "      <td>8</td>\n",
              "      <td>0</td>\n",
              "    </tr>\n",
              "  </tbody>\n",
              "</table>\n",
              "</div>"
            ],
            "text/plain": [
              "   sex  age_approx  anatom_site_general_challenge  diagnosis  target\n",
              "0    1           8                              0          8       0\n",
              "1    0           8                              5          8       0\n",
              "2    0           9                              1          5       0\n",
              "3    0           8                              0          8       0\n",
              "4    0          10                              5          8       0"
            ]
          },
          "metadata": {
            "tags": []
          },
          "execution_count": 29
        }
      ]
    },
    {
      "cell_type": "code",
      "metadata": {
        "id": "VBitLCxcQHsR"
      },
      "source": [
        "# sns.pairplot(eda_df, hue= 'target', height = 5, aspect=2, palette = 'gist_rainbow_r')"
      ],
      "execution_count": null,
      "outputs": []
    },
    {
      "cell_type": "code",
      "metadata": {
        "colab": {
          "base_uri": "https://localhost:8080/",
          "height": 340
        },
        "id": "9NcxfJA6QHsR",
        "outputId": "4a9504c0-e067-4fb5-b990-fe5fc1bccf48"
      },
      "source": [
        "sns.pairplot(eda_df, hue= 'age_approx', height = 5, aspect=3) \n",
        "# since ValueError: `bw_method` should be 'scott', 'silverman', a scalar or a callable\n",
        "# diag_kws={'bw': '0.05'} -> deleted"
      ],
      "execution_count": null,
      "outputs": [
        {
          "output_type": "execute_result",
          "data": {
            "text/plain": [
              "<seaborn.axisgrid.PairGrid at 0x7fc1f74d8f50>"
            ]
          },
          "metadata": {
            "tags": []
          },
          "execution_count": 31
        },
        {
          "output_type": "display_data",
          "data": {
            "image/png": "[encoded data removed]",
            "text/plain": [
              "<Figure size 1143.29x360 with 2 Axes>"
            ]
          },
          "metadata": {
            "tags": []
          }
        }
      ]
    },
    {
      "cell_type": "markdown",
      "metadata": {
        "id": "r4_LeVbHQHsR"
      },
      "source": [
        "## 2.4 Data Preparation for Training"
      ]
    },
    {
      "cell_type": "code",
      "metadata": {
        "id": "xrZgKt2G6Euz"
      },
      "source": [
        "# since limited space, not able to download and extract all 200GB\n",
        "# using 22.000 Img\n",
        "df_complete = df.copy()\n",
        "df_complete_noNaN = df_complete.dropna()\n",
        "df = df_partial.copy()\n",
        "df = df_partial.dropna()\n",
        "df = df[['image_name', \"target\"]]"
      ],
      "execution_count": null,
      "outputs": []
    },
    {
      "cell_type": "code",
      "metadata": {
        "colab": {
          "base_uri": "https://localhost:8080/",
          "height": 213
        },
        "id": "yn1GkDGzcusC",
        "outputId": "cb0c965c-6331-41e9-a72b-be7183a3d838"
      },
      "source": [
        "print(df.shape)\n",
        "df.head()"
      ],
      "execution_count": null,
      "outputs": [
        {
          "output_type": "stream",
          "text": [
            "(21804, 2)\n"
          ],
          "name": "stdout"
        },
        {
          "output_type": "execute_result",
          "data": {
            "text/html": [
              "<div>\n",
              "<style scoped>\n",
              "    .dataframe tbody tr th:only-of-type {\n",
              "        vertical-align: middle;\n",
              "    }\n",
              "\n",
              "    .dataframe tbody tr th {\n",
              "        vertical-align: top;\n",
              "    }\n",
              "\n",
              "    .dataframe thead th {\n",
              "        text-align: right;\n",
              "    }\n",
              "</style>\n",
              "<table border=\"1\" class=\"dataframe\">\n",
              "  <thead>\n",
              "    <tr style=\"text-align: right;\">\n",
              "      <th></th>\n",
              "      <th>image_name</th>\n",
              "      <th>target</th>\n",
              "    </tr>\n",
              "  </thead>\n",
              "  <tbody>\n",
              "    <tr>\n",
              "      <th>0</th>\n",
              "      <td>ISIC_2637011</td>\n",
              "      <td>0</td>\n",
              "    </tr>\n",
              "    <tr>\n",
              "      <th>1</th>\n",
              "      <td>ISIC_0015719</td>\n",
              "      <td>0</td>\n",
              "    </tr>\n",
              "    <tr>\n",
              "      <th>2</th>\n",
              "      <td>ISIC_0052212</td>\n",
              "      <td>0</td>\n",
              "    </tr>\n",
              "    <tr>\n",
              "      <th>3</th>\n",
              "      <td>ISIC_0068279</td>\n",
              "      <td>0</td>\n",
              "    </tr>\n",
              "    <tr>\n",
              "      <th>4</th>\n",
              "      <td>ISIC_0074268</td>\n",
              "      <td>0</td>\n",
              "    </tr>\n",
              "  </tbody>\n",
              "</table>\n",
              "</div>"
            ],
            "text/plain": [
              "     image_name  target\n",
              "0  ISIC_2637011       0\n",
              "1  ISIC_0015719       0\n",
              "2  ISIC_0052212       0\n",
              "3  ISIC_0068279       0\n",
              "4  ISIC_0074268       0"
            ]
          },
          "metadata": {
            "tags": []
          },
          "execution_count": 33
        }
      ]
    },
    {
      "cell_type": "code",
      "metadata": {
        "id": "5MGs6tOxQHsS"
      },
      "source": [
        "# image name\n",
        "\n",
        "# refactor lambda since not able to pickle when export later\n",
        "def get_x_func(x):\n",
        "  return os.path.join(dicom_path, f'{x[0]}.dcm')\n",
        "\n",
        "# image label\n",
        "def get_y_func(x):\n",
        "  return x[1]\n",
        "# or:\n",
        "# get_y_func = ColReader('target')"
      ],
      "execution_count": null,
      "outputs": []
    },
    {
      "cell_type": "code",
      "metadata": {
        "id": "E0AiqGATQHsU"
      },
      "source": [
        "# since Colorspace not in RGB\n",
        "class PILDicom2(PILBase):\n",
        "    _open_args,_tensor_cls,_show_args = {},TensorDicom,TensorDicom._show_args\n",
        "    @classmethod\n",
        "    def create(cls, fn:(Path,str,bytes), mode=None)->None:\n",
        "        \"Open a `DICOM file` from path `fn` or bytes `fn` and load it as a `PIL Image`\"\n",
        "        dimg = pydicom.dcmread(fn) \n",
        "        # if DICOM file read error in train persists\n",
        "        # use .dcmread(force=True)\n",
        "        arr = dimg.pixel_array; \n",
        "        convert = convert_color_space(arr,'YBR_FULL_422', 'RGB')\n",
        "        im = Image.fromarray(convert)\n",
        "        im.load()\n",
        "        im = im._new(im.im)\n",
        "        return cls(im.convert(mode) if mode else im)\n"
      ],
      "execution_count": null,
      "outputs": []
    },
    {
      "cell_type": "code",
      "metadata": {
        "id": "CpYBzxc8QHsU"
      },
      "source": [
        "#check which transforms available, choose appropriate\n",
        "# aug_transforms()"
      ],
      "execution_count": null,
      "outputs": []
    },
    {
      "cell_type": "code",
      "metadata": {
        "id": "Wy3836U7QHsV"
      },
      "source": [
        "# 1x ImageBlock and 1 CategoryBlock for Labels\n",
        "blocks = (ImageBlock(cls=PILDicom2), CategoryBlock)"
      ],
      "execution_count": null,
      "outputs": []
    },
    {
      "cell_type": "code",
      "metadata": {
        "id": "-vcZyaiAQHsV"
      },
      "source": [
        "melanoma_dblock = DataBlock(blocks = blocks,\n",
        "                    get_x = get_x_func,\n",
        "                    get_y = get_y_func,\n",
        "                    splitter = RandomSplitter(),\n",
        "                    item_tfms = Resize(64),\n",
        "                    batch_tfms=[Normalize.from_stats(*imagenet_stats), \n",
        "                                *aug_transforms(flip_vert=True, max_lighting=0.1)]\n",
        "                            # , max_zoom=1.05, max_warp=0. \n",
        "                    )"
      ],
      "execution_count": null,
      "outputs": []
    },
    {
      "cell_type": "code",
      "metadata": {
        "colab": {
          "base_uri": "https://localhost:8080/"
        },
        "id": "jJQaj8gUQHsW",
        "outputId": "e456b343-6aa7-4099-da5a-279d2d2a8e57"
      },
      "source": [
        "# dataloader with only 5000 samples for testing so that faster training\n",
        "# df = df[:200]\n",
        "dls = melanoma_dblock.dataloaders(df.sample(200), bs=12)\n",
        "dls"
      ],
      "execution_count": null,
      "outputs": [
        {
          "output_type": "execute_result",
          "data": {
            "text/plain": [
              "<fastai.data.core.DataLoaders at 0x7fc1f9cf6890>"
            ]
          },
          "metadata": {
            "tags": []
          },
          "execution_count": 39
        }
      ]
    },
    {
      "cell_type": "code",
      "metadata": {
        "colab": {
          "base_uri": "https://localhost:8080/"
        },
        "id": "Jelia9NBQHsW",
        "outputId": "58108cbc-c098-4ea4-e9c0-31748c595d9d"
      },
      "source": [
        "dls = dls.cuda()\n",
        "dls"
      ],
      "execution_count": null,
      "outputs": [
        {
          "output_type": "execute_result",
          "data": {
            "text/plain": [
              "<fastai.data.core.DataLoaders at 0x7fc1f9cf6890>"
            ]
          },
          "metadata": {
            "tags": []
          },
          "execution_count": 40
        }
      ]
    },
    {
      "cell_type": "code",
      "metadata": {
        "colab": {
          "base_uri": "https://localhost:8080/"
        },
        "id": "KE45JcIIZBEP",
        "outputId": "91d74458-4ffb-4686-81f0-41ee303fd277"
      },
      "source": [
        "print(len(dls.train_ds), len(dls.valid_ds))"
      ],
      "execution_count": null,
      "outputs": [
        {
          "output_type": "stream",
          "text": [
            "160 40\n"
          ],
          "name": "stdout"
        }
      ]
    },
    {
      "cell_type": "code",
      "metadata": {
        "id": "1vvyhbY4QHsX"
      },
      "source": [
        "# dls.show_batch(max_n = 10, nrows=3, ncols=4)"
      ],
      "execution_count": null,
      "outputs": []
    },
    {
      "cell_type": "code",
      "metadata": {
        "id": "dIzok_lRQHsY"
      },
      "source": [
        "# check batch\n",
        "# xb, yb = dls.one_batch()\n",
        "# print(f'Input shape: {xb.shape}, target shape: {yb.shape}.')"
      ],
      "execution_count": null,
      "outputs": []
    },
    {
      "cell_type": "markdown",
      "metadata": {
        "id": "F669Ko6kQHsZ"
      },
      "source": [
        "## 3. Model\n",
        "\n",
        "- ResNet34\n"
      ]
    },
    {
      "cell_type": "markdown",
      "metadata": {
        "id": "GfhHAH65EDas"
      },
      "source": [
        "### 3.1 Create Model"
      ]
    },
    {
      "cell_type": "code",
      "metadata": {
        "id": "p_wMtSOHQHsZ"
      },
      "source": [
        "# FASTAI V1 - not tested for fastai V2\n",
        "###########################\n",
        "\n",
        "from sklearn.metrics import roc_auc_score\n",
        "\n",
        "def get_auc_score(y_true, y_pred, tens = True):\n",
        "    score = roc_auc_score(y_true, torch.sigmoid(y_pred)[:,1])\n",
        "    if tens:\n",
        "        score = tensor(score)\n",
        "    return score\n",
        "\n",
        "def auroc_score(input, target):\n",
        "    input, target = input.cpu().numpy()[:,1], target.cpu().numpy()\n",
        "    return roc_auc_score(target, input)\n",
        "\n",
        "# from: https://forums.fast.ai/t/using-auc-as-metric-in-fastai/38917/7\n",
        "class AUROC(Callback):\n",
        "    _order = -20 #Needs to run before the recorder\n",
        "\n",
        "    def __init__(self, learn, **kwargs): self.learn = learn\n",
        "    def on_train_begin(self, **kwargs): self.learn.recorder.add_metric_names(['AUROC'])\n",
        "    def on_epoch_begin(self, **kwargs): self.output, self.target = [], []\n",
        "    \n",
        "    def on_batch_end(self, last_target, last_output, train, **kwargs):\n",
        "        if not train:\n",
        "            self.output.append(last_output)\n",
        "            self.target.append(last_target)\n",
        "                \n",
        "    def on_epoch_end(self, last_target, last_output, **kwargs):\n",
        "        if len(self.output) > 0:\n",
        "            output = torch.cat(self.output)\n",
        "            target = torch.cat(self.target)\n",
        "            preds = F.softmax(output, dim=1)\n",
        "            metric = auroc_score(preds, target)\n",
        "            self.learn.recorder.add_metrics([metric])\n",
        "    \n",
        "#     use in : learn = text_classifier_learner(data_clf, drop_mult=0.3, callback_fns=AUROC)"
      ],
      "execution_count": null,
      "outputs": []
    },
    {
      "cell_type": "code",
      "metadata": {
        "id": "vdac30FKQHsa"
      },
      "source": [
        "# model (small first, n_outputs define with dataloaders.c attribute)\n",
        "# model = models.xresnet18_deep(n_out = dls.c)\n",
        "model = models.resnet34\n",
        "\n",
        "# metrics\n",
        "# roc = RocAuc()\n",
        "# acc_02 = partial(accuracy_thresh, thresh=0.2)\n",
        "# f_score = partial(fbeta, thresh=0.2)\n",
        "\n",
        "acc = accuracy\n",
        "metrics = [acc, ]\n",
        "learn = cnn_learner(dls, \n",
        "                     model, \n",
        "                     metrics=metrics, \n",
        "                     loss_func= LabelSmoothingCrossEntropy(), \n",
        "                    ps=0.25,\n",
        "                    model_dir='/content/gdrive/MyDrive/Colab Notebooks/kaggle/melanoma/models',\n",
        "                     cbs = ShowGraphCallback(),\n",
        "                     )\n"
      ],
      "execution_count": null,
      "outputs": []
    },
    {
      "cell_type": "code",
      "metadata": {
        "colab": {
          "base_uri": "https://localhost:8080/"
        },
        "id": "JvN99FLfQizc",
        "outputId": "124437c0-6093-43e9-894d-063c2722b01f"
      },
      "source": [
        "learn.arch"
      ],
      "execution_count": null,
      "outputs": [
        {
          "output_type": "execute_result",
          "data": {
            "text/plain": [
              "<function torchvision.models.resnet.resnet34>"
            ]
          },
          "metadata": {
            "tags": []
          },
          "execution_count": 67
        }
      ]
    },
    {
      "cell_type": "code",
      "metadata": {
        "id": "HPntNFs-jRxL"
      },
      "source": [
        "# if GPU enabled:\n",
        "if torch.cuda.is_available():\n",
        "    learn.model.cuda()"
      ],
      "execution_count": null,
      "outputs": []
    },
    {
      "cell_type": "code",
      "metadata": {
        "id": "I0tdIkjEiiLF"
      },
      "source": [
        "# defince Callbacks\n",
        "earlyStop = EarlyStoppingCallback(monitor='valid_loss', \n",
        "                                  min_delta=0.1, \n",
        "                                  patience=2)\n",
        "\n",
        "## default SaveModelCallback:\n",
        "# SaveModelCallback(monitor='valid_loss', \n",
        "#  comp=None, min_delta=0.0, \n",
        "#  fname='model', \n",
        "#  every_epoch=False, \n",
        "#  with_opt=False, \n",
        "#  reset_on_fit=True) \n",
        "saveModel = SaveModelCallback(every_epoch=True, \n",
        "                              fname='melanoma_DICOM_resnet34')\n",
        "\n",
        "reduceLR = ReduceLROnPlateau(monitor='valid_loss', comp=None, \n",
        "                             min_delta=0.0, patience=1, factor=10.0, \n",
        "                             min_lr=0, reset_on_fit=True)\n",
        "\n",
        "callbacks =[earlyStop, reduceLR]"
      ],
      "execution_count": null,
      "outputs": []
    },
    {
      "cell_type": "markdown",
      "metadata": {
        "id": "QNAt-nN--6lr"
      },
      "source": [
        "### 3.2. train model"
      ]
    },
    {
      "cell_type": "markdown",
      "metadata": {
        "id": "rWpI2Hofh6rL"
      },
      "source": [
        "20.04.2021:\n",
        "\n",
        "In \"Manage Session\" GPU only UTC-8 16:001.45GB / 21:00 1.69GB Used - \n",
        "always with batch_tfms=[Normalize.from_stats(*imagenet_stats), *aug_transforms(flip_vert=True, max_lighting=0.1, max_zoom=1.05, max_warp=0.)]\n",
        "\n",
        "1. densenet121with df.sample(100), bs=10, item_tfms=Resize(64)\n",
        "- lr_find() : 30min / fit_one_cycle: 3min\n",
        "2. with df (11.000 dicom files), bs=32, item_tfms=Resize(64)\n",
        "- lr_find() : 4hr / fit_one_cycle: 3.5 hr both estimations not executed - same with bs=8\n",
        "3. with df (full aka 500 dicom files), bs=32, item_tfms=Resize(64)\n",
        "- lr_find() : 1.5hr / fit_one_cycle: 1.5 hr both estimations not executed\n",
        "4. resnet34, df=5000, bs=32, aug_transforms(flip_vert=True, max_lighting=0.1) Items_tfmsResize(64)"
      ]
    },
    {
      "cell_type": "markdown",
      "metadata": {
        "id": "5t9eEiaFA6o9"
      },
      "source": [
        "### 3.2.1 First run"
      ]
    },
    {
      "cell_type": "code",
      "metadata": {
        "colab": {
          "base_uri": "https://localhost:8080/",
          "height": 436
        },
        "id": "TyF4Sk9eQHsc",
        "outputId": "a3147060-83ec-47bc-a82d-5b7e6fef5ca3"
      },
      "source": [
        "# learn.fit_one_cycle(4)"
      ],
      "execution_count": null,
      "outputs": [
        {
          "output_type": "display_data",
          "data": {
            "text/html": [
              "<table border=\"1\" class=\"dataframe\">\n",
              "  <thead>\n",
              "    <tr style=\"text-align: left;\">\n",
              "      <th>epoch</th>\n",
              "      <th>train_loss</th>\n",
              "      <th>valid_loss</th>\n",
              "      <th>accuracy</th>\n",
              "      <th>time</th>\n",
              "    </tr>\n",
              "  </thead>\n",
              "  <tbody>\n",
              "    <tr>\n",
              "      <td>0</td>\n",
              "      <td>1.151028</td>\n",
              "      <td>0.760770</td>\n",
              "      <td>0.700000</td>\n",
              "      <td>05:03</td>\n",
              "    </tr>\n",
              "    <tr>\n",
              "      <td>1</td>\n",
              "      <td>1.111318</td>\n",
              "      <td>0.713173</td>\n",
              "      <td>0.650000</td>\n",
              "      <td>04:15</td>\n",
              "    </tr>\n",
              "    <tr>\n",
              "      <td>2</td>\n",
              "      <td>1.033412</td>\n",
              "      <td>0.765527</td>\n",
              "      <td>0.650000</td>\n",
              "      <td>04:17</td>\n",
              "    </tr>\n",
              "  </tbody>\n",
              "</table>"
            ],
            "text/plain": [
              "<IPython.core.display.HTML object>"
            ]
          },
          "metadata": {
            "tags": []
          }
        },
        {
          "output_type": "stream",
          "text": [
            "Better model found at epoch 0 with valid_loss value: 0.7607696652412415.\n"
          ],
          "name": "stdout"
        },
        {
          "output_type": "display_data",
          "data": {
            "image/png": "[encoded data removed]",
            "text/plain": [
              "<Figure size 432x288 with 1 Axes>"
            ]
          },
          "metadata": {
            "tags": []
          }
        },
        {
          "output_type": "stream",
          "text": [
            "Better model found at epoch 1 with valid_loss value: 0.7131731510162354.\n",
            "No improvement since epoch 0: early stopping\n"
          ],
          "name": "stdout"
        }
      ]
    },
    {
      "cell_type": "code",
      "metadata": {
        "colab": {
          "base_uri": "https://localhost:8080/"
        },
        "id": "u-LhKp2WQHsc",
        "outputId": "f598e06e-7246-4522-996a-3f88b456b216"
      },
      "source": [
        "# learn.save('melanoma-DICOM-resnet34-stage1')"
      ],
      "execution_count": null,
      "outputs": [
        {
          "output_type": "execute_result",
          "data": {
            "text/plain": [
              "Path('models/melanoma-DICOM-resnet34-stage1.pth')"
            ]
          },
          "metadata": {
            "tags": []
          },
          "execution_count": 60
        }
      ]
    },
    {
      "cell_type": "code",
      "metadata": {
        "id": "lsws5YauQHsc"
      },
      "source": [
        "# make the rest of the layers trainable\n",
        "# learn.unfreeze()"
      ],
      "execution_count": null,
      "outputs": []
    },
    {
      "cell_type": "code",
      "metadata": {
        "colab": {
          "base_uri": "https://localhost:8080/",
          "height": 340
        },
        "id": "Zx1cN9kSQHsd",
        "outputId": "fdf8346f-1757-4d74-b0a9-6306bdb629e3"
      },
      "source": [
        "# learn.lr_find()"
      ],
      "execution_count": null,
      "outputs": [
        {
          "output_type": "display_data",
          "data": {
            "text/html": [
              "\n",
              "    <div>\n",
              "        <style>\n",
              "            /* Turns off some styling */\n",
              "            progress {\n",
              "                /* gets rid of default border in Firefox and Opera. */\n",
              "                border: none;\n",
              "                /* Needs to be in here for Safari polyfill so background images work as expected. */\n",
              "                background-size: auto;\n",
              "            }\n",
              "            .progress-bar-interrupted, .progress-bar-interrupted::-webkit-progress-bar {\n",
              "                background: #F44336;\n",
              "            }\n",
              "        </style>\n",
              "      <progress value='5' class='' max='8' style='width:300px; height:20px; vertical-align: middle;'></progress>\n",
              "      62.50% [5/8 16:49<10:05]\n",
              "    </div>\n",
              "    \n",
              "\n",
              "\n",
              "    <div>\n",
              "        <style>\n",
              "            /* Turns off some styling */\n",
              "            progress {\n",
              "                /* gets rid of default border in Firefox and Opera. */\n",
              "                border: none;\n",
              "                /* Needs to be in here for Safari polyfill so background images work as expected. */\n",
              "                background-size: auto;\n",
              "            }\n",
              "            .progress-bar-interrupted, .progress-bar-interrupted::-webkit-progress-bar {\n",
              "                background: #F44336;\n",
              "            }\n",
              "        </style>\n",
              "      <progress value='0' class='' max='13' style='width:300px; height:20px; vertical-align: middle;'></progress>\n",
              "      0.00% [0/13 00:00<00:00]\n",
              "    </div>\n",
              "    "
            ],
            "text/plain": [
              "<IPython.core.display.HTML object>"
            ]
          },
          "metadata": {
            "tags": []
          }
        },
        {
          "output_type": "display_data",
          "data": {
            "text/html": [
              ""
            ],
            "text/plain": [
              "<IPython.core.display.HTML object>"
            ]
          },
          "metadata": {
            "tags": []
          }
        },
        {
          "output_type": "execute_result",
          "data": {
            "text/plain": [
              "SuggestedLRs(lr_min=0.017378008365631102, lr_steep=6.309573450380412e-07)"
            ]
          },
          "metadata": {
            "tags": []
          },
          "execution_count": 62
        },
        {
          "output_type": "display_data",
          "data": {
            "image/png": "[encoded data removed]",
            "text/plain": [
              "<Figure size 432x288 with 1 Axes>"
            ]
          },
          "metadata": {
            "tags": []
          }
        }
      ]
    },
    {
      "cell_type": "code",
      "metadata": {
        "colab": {
          "base_uri": "https://localhost:8080/",
          "height": 356
        },
        "id": "PNb8FGktQHsd",
        "outputId": "a4e6bd83-ef5f-4a89-a069-f18ff0065ac8"
      },
      "source": [
        "# learn.fit_one_cycle(2)"
      ],
      "execution_count": null,
      "outputs": [
        {
          "output_type": "display_data",
          "data": {
            "text/html": [
              "<table border=\"1\" class=\"dataframe\">\n",
              "  <thead>\n",
              "    <tr style=\"text-align: left;\">\n",
              "      <th>epoch</th>\n",
              "      <th>train_loss</th>\n",
              "      <th>valid_loss</th>\n",
              "      <th>accuracy</th>\n",
              "      <th>time</th>\n",
              "    </tr>\n",
              "  </thead>\n",
              "  <tbody>\n",
              "    <tr>\n",
              "      <td>0</td>\n",
              "      <td>1.012429</td>\n",
              "      <td>4.441028</td>\n",
              "      <td>0.200000</td>\n",
              "      <td>04:20</td>\n",
              "    </tr>\n",
              "    <tr>\n",
              "      <td>1</td>\n",
              "      <td>0.943667</td>\n",
              "      <td>0.822441</td>\n",
              "      <td>0.750000</td>\n",
              "      <td>04:17</td>\n",
              "    </tr>\n",
              "  </tbody>\n",
              "</table>"
            ],
            "text/plain": [
              "<IPython.core.display.HTML object>"
            ]
          },
          "metadata": {
            "tags": []
          }
        },
        {
          "output_type": "display_data",
          "data": {
            "image/png": "[encoded data removed]",
            "text/plain": [
              "<Figure size 432x288 with 1 Axes>"
            ]
          },
          "metadata": {
            "tags": []
          }
        }
      ]
    },
    {
      "cell_type": "code",
      "metadata": {
        "colab": {
          "base_uri": "https://localhost:8080/"
        },
        "id": "gy05KdP-QHse",
        "outputId": "b94633b2-8a06-4a97-cdbe-5ee6f64acd0a"
      },
      "source": [
        "# learn.save('melanoma-DICOM-resnet34-stage1')"
      ],
      "execution_count": null,
      "outputs": [
        {
          "output_type": "execute_result",
          "data": {
            "text/plain": [
              "Path('models/melanoma-DICOM-resnet34-stage1.pth')"
            ]
          },
          "metadata": {
            "tags": []
          },
          "execution_count": 70
        }
      ]
    },
    {
      "cell_type": "code",
      "metadata": {
        "colab": {
          "base_uri": "https://localhost:8080/",
          "height": 446
        },
        "id": "lonXQ1skQHse",
        "outputId": "8c5cdb96-3180-4b1c-a4ed-a12c803a0a71"
      },
      "source": [
        "# learn.fit_one_cycle(5)"
      ],
      "execution_count": null,
      "outputs": [
        {
          "output_type": "display_data",
          "data": {
            "text/html": [
              "<table border=\"1\" class=\"dataframe\">\n",
              "  <thead>\n",
              "    <tr style=\"text-align: left;\">\n",
              "      <th>epoch</th>\n",
              "      <th>train_loss</th>\n",
              "      <th>valid_loss</th>\n",
              "      <th>accuracy</th>\n",
              "      <th>time</th>\n",
              "    </tr>\n",
              "  </thead>\n",
              "  <tbody>\n",
              "    <tr>\n",
              "      <td>0</td>\n",
              "      <td>0.669743</td>\n",
              "      <td>0.426050</td>\n",
              "      <td>0.950000</td>\n",
              "      <td>05:01</td>\n",
              "    </tr>\n",
              "    <tr>\n",
              "      <td>1</td>\n",
              "      <td>0.643472</td>\n",
              "      <td>0.326132</td>\n",
              "      <td>0.950000</td>\n",
              "      <td>04:22</td>\n",
              "    </tr>\n",
              "    <tr>\n",
              "      <td>2</td>\n",
              "      <td>0.560494</td>\n",
              "      <td>0.548953</td>\n",
              "      <td>0.825000</td>\n",
              "      <td>04:26</td>\n",
              "    </tr>\n",
              "    <tr>\n",
              "      <td>3</td>\n",
              "      <td>0.514446</td>\n",
              "      <td>0.430304</td>\n",
              "      <td>0.925000</td>\n",
              "      <td>04:24</td>\n",
              "    </tr>\n",
              "    <tr>\n",
              "      <td>4</td>\n",
              "      <td>0.481781</td>\n",
              "      <td>0.326165</td>\n",
              "      <td>0.950000</td>\n",
              "      <td>04:23</td>\n",
              "    </tr>\n",
              "  </tbody>\n",
              "</table>"
            ],
            "text/plain": [
              "<IPython.core.display.HTML object>"
            ]
          },
          "metadata": {
            "tags": []
          }
        },
        {
          "output_type": "display_data",
          "data": {
            "image/png": "[encoded data removed]",
            "text/plain": [
              "<Figure size 432x288 with 1 Axes>"
            ]
          },
          "metadata": {
            "tags": []
          }
        }
      ]
    },
    {
      "cell_type": "markdown",
      "metadata": {
        "id": "wVmSFVkDBKgZ"
      },
      "source": [
        "### 3.2.2 Second Train Phase"
      ]
    },
    {
      "cell_type": "code",
      "metadata": {
        "colab": {
          "base_uri": "https://localhost:8080/"
        },
        "id": "508LJvHgBEuv",
        "outputId": "84c028c8-a798-4d1d-a77f-0c1111d9cce6"
      },
      "source": [
        "learn.load('/content/gdrive/MyDrive/Colab Notebooks/kaggle/melanoma/models/melanoma-DICOM-resnet34-stage2')"
      ],
      "execution_count": null,
      "outputs": [
        {
          "output_type": "execute_result",
          "data": {
            "text/plain": [
              "<fastai.learner.Learner at 0x7fc189079b50>"
            ]
          },
          "metadata": {
            "tags": []
          },
          "execution_count": 70
        }
      ]
    },
    {
      "cell_type": "code",
      "metadata": {
        "id": "Q04SQKX3BbRz"
      },
      "source": [
        "## add more images with bigger img size to dls\n",
        "\n",
        "melanoma_dblock2 = DataBlock(blocks = blocks,\n",
        "                    get_x = get_x_func,\n",
        "                    get_y = get_y_func,\n",
        "                    splitter = RandomSplitter(),\n",
        "                    item_tfms = Resize(224),\n",
        "                    batch_tfms=[Normalize.from_stats(*imagenet_stats), \n",
        "                                *aug_transforms(flip_vert=True, max_lighting=0.1)]\n",
        "                            # , max_zoom=1.05, max_warp=0. \n",
        "                    )\n",
        "\n",
        "dls2 = melanoma_dblock2.dataloaders(df.sample(1000), bs= 32)\n",
        "dls2 = dls2.cuda()\n",
        "learn.dls = dls2"
      ],
      "execution_count": null,
      "outputs": []
    },
    {
      "cell_type": "code",
      "metadata": {
        "colab": {
          "base_uri": "https://localhost:8080/"
        },
        "id": "S4znX6P-C4TH",
        "outputId": "daf6316f-3827-435c-eb3a-049f96faa424"
      },
      "source": [
        "print(len(learn.dls.train_ds))\n",
        "dls.train_ds[0][0].shape"
      ],
      "execution_count": null,
      "outputs": [
        {
          "output_type": "stream",
          "text": [
            "800\n"
          ],
          "name": "stdout"
        },
        {
          "output_type": "execute_result",
          "data": {
            "text/plain": [
              "(4000, 6000)"
            ]
          },
          "metadata": {
            "tags": []
          },
          "execution_count": 72
        }
      ]
    },
    {
      "cell_type": "code",
      "metadata": {
        "id": "4BP724lcQEOc"
      },
      "source": [
        "learn.freeze()"
      ],
      "execution_count": null,
      "outputs": []
    },
    {
      "cell_type": "code",
      "metadata": {
        "id": "lqwRslddOqrV"
      },
      "source": [
        "# learn.lr_find()"
      ],
      "execution_count": null,
      "outputs": []
    },
    {
      "cell_type": "code",
      "metadata": {
        "colab": {
          "base_uri": "https://localhost:8080/",
          "height": 153
        },
        "id": "_ol8dnRADGxY",
        "outputId": "ad43063a-09dc-4d82-8e17-23fc73ff1916"
      },
      "source": [
        "learn.fit_one_cycle(n_epoch=5, \n",
        "                    cbs=[SaveModelCallback(every_epoch=True, \n",
        "                                          fname='melanoma_DICOM_resnet34_stage2'),\n",
        "                         EarlyStoppingCallback(monitor='valid_loss', \n",
        "                                  min_delta=0.1, \n",
        "                                  patience=2)]\n",
        "                    )"
      ],
      "execution_count": null,
      "outputs": [
        {
          "output_type": "display_data",
          "data": {
            "text/html": [
              "<table border=\"1\" class=\"dataframe\">\n",
              "  <thead>\n",
              "    <tr style=\"text-align: left;\">\n",
              "      <th>epoch</th>\n",
              "      <th>train_loss</th>\n",
              "      <th>valid_loss</th>\n",
              "      <th>accuracy</th>\n",
              "      <th>time</th>\n",
              "    </tr>\n",
              "  </thead>\n",
              "  <tbody>\n",
              "    <tr>\n",
              "      <td>0</td>\n",
              "      <td>0.334416</td>\n",
              "      <td>0.265829</td>\n",
              "      <td>0.985000</td>\n",
              "      <td>23:29</td>\n",
              "    </tr>\n",
              "    <tr>\n",
              "      <td>1</td>\n",
              "      <td>0.322581</td>\n",
              "      <td>0.273838</td>\n",
              "      <td>0.985000</td>\n",
              "      <td>23:15</td>\n",
              "    </tr>\n",
              "    <tr>\n",
              "      <td>2</td>\n",
              "      <td>0.312991</td>\n",
              "      <td>0.264308</td>\n",
              "      <td>0.985000</td>\n",
              "      <td>23:03</td>\n",
              "    </tr>\n",
              "  </tbody>\n",
              "</table>"
            ],
            "text/plain": [
              "<IPython.core.display.HTML object>"
            ]
          },
          "metadata": {
            "tags": []
          }
        },
        {
          "output_type": "stream",
          "text": [
            "No improvement since epoch 0: early stopping\n"
          ],
          "name": "stdout"
        }
      ]
    },
    {
      "cell_type": "code",
      "metadata": {
        "colab": {
          "base_uri": "https://localhost:8080/"
        },
        "id": "MH-717TlSzh_",
        "outputId": "6c56398c-3688-48c1-af11-79e607aa4c24"
      },
      "source": [
        "learn.save('melanoma_DICOM_resnet_stage3_best')"
      ],
      "execution_count": null,
      "outputs": [
        {
          "output_type": "execute_result",
          "data": {
            "text/plain": [
              "Path('/content/gdrive/MyDrive/Colab Notebooks/kaggle/melanoma/models/melanoma_DICOM_resnet_stage3_best.pth')"
            ]
          },
          "metadata": {
            "tags": []
          },
          "execution_count": 78
        }
      ]
    },
    {
      "cell_type": "code",
      "metadata": {
        "id": "W7p-GPrQSaTO"
      },
      "source": [
        "learn.unfreeze()"
      ],
      "execution_count": null,
      "outputs": []
    },
    {
      "cell_type": "code",
      "metadata": {
        "id": "pJX2-X6KSfJi"
      },
      "source": [
        "# learn.lr_find()"
      ],
      "execution_count": null,
      "outputs": []
    },
    {
      "cell_type": "code",
      "metadata": {
        "colab": {
          "background_save": true,
          "base_uri": "https://localhost:8080/",
          "height": 538
        },
        "id": "qBS2MmbLShgw",
        "outputId": "db52fee7-2795-40b8-ffe4-5a952fb4c6b9"
      },
      "source": [
        "learn.fit_one_cycle(n_epoch=3,\n",
        "                    cbs=[SaveModelCallback(every_epoch=True, \n",
        "                                          fname='melanoma_DICOM_resnet34_stage4'),\n",
        "                         EarlyStoppingCallback(monitor='valid_loss', \n",
        "                                  min_delta=0.1, \n",
        "                                  patience=2)]\n",
        "                    )"
      ],
      "execution_count": null,
      "outputs": [
        {
          "output_type": "display_data",
          "data": {
            "text/html": [
              "<table border=\"1\" class=\"dataframe\">\n",
              "  <thead>\n",
              "    <tr style=\"text-align: left;\">\n",
              "      <th>epoch</th>\n",
              "      <th>train_loss</th>\n",
              "      <th>valid_loss</th>\n",
              "      <th>accuracy</th>\n",
              "      <th>time</th>\n",
              "    </tr>\n",
              "  </thead>\n",
              "  <tbody>\n",
              "    <tr>\n",
              "      <td>0</td>\n",
              "      <td>0.308145</td>\n",
              "      <td>1.111048</td>\n",
              "      <td>0.985000</td>\n",
              "      <td>23:19</td>\n",
              "    </tr>\n",
              "    <tr>\n",
              "      <td>1</td>\n",
              "      <td>0.303359</td>\n",
              "      <td>0.433987</td>\n",
              "      <td>0.985000</td>\n",
              "      <td>23:18</td>\n",
              "    </tr>\n",
              "    <tr>\n",
              "      <td>2</td>\n",
              "      <td>0.295791</td>\n",
              "      <td>0.249486</td>\n",
              "      <td>0.985000</td>\n",
              "      <td>22:58</td>\n",
              "    </tr>\n",
              "  </tbody>\n",
              "</table>"
            ],
            "text/plain": [
              "<IPython.core.display.HTML object>"
            ]
          },
          "metadata": {
            "tags": []
          }
        },
        {
          "output_type": "display_data",
          "data": {
            "image/png": "[encoded data removed]",
            "text/plain": [
              "<Figure size 432x288 with 1 Axes>"
            ]
          },
          "metadata": {
            "tags": []
          }
        }
      ]
    },
    {
      "cell_type": "code",
      "metadata": {
        "colab": {
          "background_save": true
        },
        "id": "zTcuqZFAS4kj",
        "outputId": "ec90a7c5-a39f-4c2b-d439-0488df75ba05"
      },
      "source": [
        "learn.save('melanoma_DICOM_resnet_stage4_best')"
      ],
      "execution_count": null,
      "outputs": [
        {
          "output_type": "execute_result",
          "data": {
            "text/plain": [
              "Path('/content/gdrive/MyDrive/Colab Notebooks/kaggle/melanoma/models/melanoma_DICOM_resnet_stage4_best.pth')"
            ]
          },
          "metadata": {
            "tags": []
          },
          "execution_count": 0
        }
      ]
    },
    {
      "cell_type": "code",
      "metadata": {
        "colab": {
          "background_save": true
        },
        "id": "4TaXiMQtSc55",
        "outputId": "56b19107-fd44-4de5-8856-18f1d23e8161"
      },
      "source": [
        "learn.export('/content/gdrive/MyDrive/Colab Notebooks/kaggle/melanoma/models/melanoma_DICOM_resnet34_stage4_best')"
      ],
      "execution_count": null,
      "outputs": [
        {
          "output_type": "error",
          "ename": "AttributeError",
          "evalue": "ignored",
          "traceback": [
            "\u001b[0;31m---------------------------------------------------------------------------\u001b[0m",
            "\u001b[0;31mAttributeError\u001b[0m                            Traceback (most recent call last)",
            "\u001b[0;32m<ipython-input-83-0a8dd6da4cc4>\u001b[0m in \u001b[0;36m<module>\u001b[0;34m()\u001b[0m\n\u001b[0;32m----> 1\u001b[0;31m \u001b[0mlearn\u001b[0m\u001b[0;34m.\u001b[0m\u001b[0mexport\u001b[0m\u001b[0;34m(\u001b[0m\u001b[0;34m'/content/gdrive/MyDrive/Colab Notebooks/kaggle/melanoma/models/melanoma_DICOM_resnet34_stage4_best'\u001b[0m\u001b[0;34m)\u001b[0m\u001b[0;34m\u001b[0m\u001b[0;34m\u001b[0m\u001b[0m\n\u001b[0m",
            "\u001b[0;32m/usr/local/lib/python3.7/dist-packages/fastai/learner.py\u001b[0m in \u001b[0;36mexport\u001b[0;34m(self, fname, pickle_module, pickle_protocol)\u001b[0m\n\u001b[1;32m    364\u001b[0m         \u001b[0;31m#To avoid the warning that come from PyTorch about model not being checked\u001b[0m\u001b[0;34m\u001b[0m\u001b[0;34m\u001b[0m\u001b[0;34m\u001b[0m\u001b[0m\n\u001b[1;32m    365\u001b[0m         \u001b[0mwarnings\u001b[0m\u001b[0;34m.\u001b[0m\u001b[0msimplefilter\u001b[0m\u001b[0;34m(\u001b[0m\u001b[0;34m\"ignore\"\u001b[0m\u001b[0;34m)\u001b[0m\u001b[0;34m\u001b[0m\u001b[0;34m\u001b[0m\u001b[0m\n\u001b[0;32m--> 366\u001b[0;31m         \u001b[0mtorch\u001b[0m\u001b[0;34m.\u001b[0m\u001b[0msave\u001b[0m\u001b[0;34m(\u001b[0m\u001b[0mself\u001b[0m\u001b[0;34m,\u001b[0m \u001b[0mself\u001b[0m\u001b[0;34m.\u001b[0m\u001b[0mpath\u001b[0m\u001b[0;34m/\u001b[0m\u001b[0mfname\u001b[0m\u001b[0;34m,\u001b[0m \u001b[0mpickle_module\u001b[0m\u001b[0;34m=\u001b[0m\u001b[0mpickle_module\u001b[0m\u001b[0;34m,\u001b[0m \u001b[0mpickle_protocol\u001b[0m\u001b[0;34m=\u001b[0m\u001b[0mpickle_protocol\u001b[0m\u001b[0;34m)\u001b[0m\u001b[0;34m\u001b[0m\u001b[0;34m\u001b[0m\u001b[0m\n\u001b[0m\u001b[1;32m    367\u001b[0m     \u001b[0mself\u001b[0m\u001b[0;34m.\u001b[0m\u001b[0mcreate_opt\u001b[0m\u001b[0;34m(\u001b[0m\u001b[0;34m)\u001b[0m\u001b[0;34m\u001b[0m\u001b[0;34m\u001b[0m\u001b[0m\n\u001b[1;32m    368\u001b[0m     \u001b[0;32mif\u001b[0m \u001b[0mstate\u001b[0m \u001b[0;32mis\u001b[0m \u001b[0;32mnot\u001b[0m \u001b[0;32mNone\u001b[0m\u001b[0;34m:\u001b[0m \u001b[0mself\u001b[0m\u001b[0;34m.\u001b[0m\u001b[0mopt\u001b[0m\u001b[0;34m.\u001b[0m\u001b[0mload_state_dict\u001b[0m\u001b[0;34m(\u001b[0m\u001b[0mstate\u001b[0m\u001b[0;34m)\u001b[0m\u001b[0;34m\u001b[0m\u001b[0;34m\u001b[0m\u001b[0m\n",
            "\u001b[0;32m/usr/local/lib/python3.7/dist-packages/torch/serialization.py\u001b[0m in \u001b[0;36msave\u001b[0;34m(obj, f, pickle_module, pickle_protocol, _use_new_zipfile_serialization)\u001b[0m\n\u001b[1;32m    370\u001b[0m         \u001b[0;32mif\u001b[0m \u001b[0m_use_new_zipfile_serialization\u001b[0m\u001b[0;34m:\u001b[0m\u001b[0;34m\u001b[0m\u001b[0;34m\u001b[0m\u001b[0m\n\u001b[1;32m    371\u001b[0m             \u001b[0;32mwith\u001b[0m \u001b[0m_open_zipfile_writer\u001b[0m\u001b[0;34m(\u001b[0m\u001b[0mopened_file\u001b[0m\u001b[0;34m)\u001b[0m \u001b[0;32mas\u001b[0m \u001b[0mopened_zipfile\u001b[0m\u001b[0;34m:\u001b[0m\u001b[0;34m\u001b[0m\u001b[0;34m\u001b[0m\u001b[0m\n\u001b[0;32m--> 372\u001b[0;31m                 \u001b[0m_save\u001b[0m\u001b[0;34m(\u001b[0m\u001b[0mobj\u001b[0m\u001b[0;34m,\u001b[0m \u001b[0mopened_zipfile\u001b[0m\u001b[0;34m,\u001b[0m \u001b[0mpickle_module\u001b[0m\u001b[0;34m,\u001b[0m \u001b[0mpickle_protocol\u001b[0m\u001b[0;34m)\u001b[0m\u001b[0;34m\u001b[0m\u001b[0;34m\u001b[0m\u001b[0m\n\u001b[0m\u001b[1;32m    373\u001b[0m                 \u001b[0;32mreturn\u001b[0m\u001b[0;34m\u001b[0m\u001b[0;34m\u001b[0m\u001b[0m\n\u001b[1;32m    374\u001b[0m         \u001b[0m_legacy_save\u001b[0m\u001b[0;34m(\u001b[0m\u001b[0mobj\u001b[0m\u001b[0;34m,\u001b[0m \u001b[0mopened_file\u001b[0m\u001b[0;34m,\u001b[0m \u001b[0mpickle_module\u001b[0m\u001b[0;34m,\u001b[0m \u001b[0mpickle_protocol\u001b[0m\u001b[0;34m)\u001b[0m\u001b[0;34m\u001b[0m\u001b[0;34m\u001b[0m\u001b[0m\n",
            "\u001b[0;32m/usr/local/lib/python3.7/dist-packages/torch/serialization.py\u001b[0m in \u001b[0;36m_save\u001b[0;34m(obj, zip_file, pickle_module, pickle_protocol)\u001b[0m\n\u001b[1;32m    474\u001b[0m     \u001b[0mpickler\u001b[0m \u001b[0;34m=\u001b[0m \u001b[0mpickle_module\u001b[0m\u001b[0;34m.\u001b[0m\u001b[0mPickler\u001b[0m\u001b[0;34m(\u001b[0m\u001b[0mdata_buf\u001b[0m\u001b[0;34m,\u001b[0m \u001b[0mprotocol\u001b[0m\u001b[0;34m=\u001b[0m\u001b[0mpickle_protocol\u001b[0m\u001b[0;34m)\u001b[0m\u001b[0;34m\u001b[0m\u001b[0;34m\u001b[0m\u001b[0m\n\u001b[1;32m    475\u001b[0m     \u001b[0mpickler\u001b[0m\u001b[0;34m.\u001b[0m\u001b[0mpersistent_id\u001b[0m \u001b[0;34m=\u001b[0m \u001b[0mpersistent_id\u001b[0m\u001b[0;34m\u001b[0m\u001b[0;34m\u001b[0m\u001b[0m\n\u001b[0;32m--> 476\u001b[0;31m     \u001b[0mpickler\u001b[0m\u001b[0;34m.\u001b[0m\u001b[0mdump\u001b[0m\u001b[0;34m(\u001b[0m\u001b[0mobj\u001b[0m\u001b[0;34m)\u001b[0m\u001b[0;34m\u001b[0m\u001b[0;34m\u001b[0m\u001b[0m\n\u001b[0m\u001b[1;32m    477\u001b[0m     \u001b[0mdata_value\u001b[0m \u001b[0;34m=\u001b[0m \u001b[0mdata_buf\u001b[0m\u001b[0;34m.\u001b[0m\u001b[0mgetvalue\u001b[0m\u001b[0;34m(\u001b[0m\u001b[0;34m)\u001b[0m\u001b[0;34m\u001b[0m\u001b[0;34m\u001b[0m\u001b[0m\n\u001b[1;32m    478\u001b[0m     \u001b[0mzip_file\u001b[0m\u001b[0;34m.\u001b[0m\u001b[0mwrite_record\u001b[0m\u001b[0;34m(\u001b[0m\u001b[0;34m'data.pkl'\u001b[0m\u001b[0;34m,\u001b[0m \u001b[0mdata_value\u001b[0m\u001b[0;34m,\u001b[0m \u001b[0mlen\u001b[0m\u001b[0;34m(\u001b[0m\u001b[0mdata_value\u001b[0m\u001b[0;34m)\u001b[0m\u001b[0;34m)\u001b[0m\u001b[0;34m\u001b[0m\u001b[0;34m\u001b[0m\u001b[0m\n",
            "\u001b[0;31mAttributeError\u001b[0m: Can't pickle local object 'combine_scheds.<locals>._inner'"
          ]
        }
      ]
    },
    {
      "cell_type": "markdown",
      "metadata": {
        "id": "2aUFStoS9qH2"
      },
      "source": [
        "### 3.3 Fine Tuning"
      ]
    },
    {
      "cell_type": "code",
      "metadata": {
        "colab": {
          "background_save": true
        },
        "id": "QSPjSEQeuFH8"
      },
      "source": [
        "# learn.load('')"
      ],
      "execution_count": null,
      "outputs": []
    },
    {
      "cell_type": "code",
      "metadata": {
        "colab": {
          "background_save": true
        },
        "id": "v_sWUxVCEXbN"
      },
      "source": [
        "# clean cache and free up GPU\n",
        "# import gc\n",
        "# gc.collect()\n",
        "# torch.cuda.empty_cache()"
      ],
      "execution_count": null,
      "outputs": []
    },
    {
      "cell_type": "code",
      "metadata": {
        "colab": {
          "background_save": true
        },
        "id": "Y9Jm-PIVQHsf"
      },
      "source": [
        "dls3 = melanoma_dblock.datasets(df.sample(500), bs=64)\n",
        "dls3 = dls3.cuda()\n",
        "\n",
        "learn.dls = dls3"
      ],
      "execution_count": null,
      "outputs": []
    },
    {
      "cell_type": "code",
      "metadata": {
        "colab": {
          "background_save": true
        },
        "id": "_tcYMVgnTI_q"
      },
      "source": [
        "learn.freeze()"
      ],
      "execution_count": null,
      "outputs": []
    },
    {
      "cell_type": "code",
      "metadata": {
        "colab": {
          "background_save": true
        },
        "id": "C3zsIyVBTLhD"
      },
      "source": [
        "# learn.lr_find()"
      ],
      "execution_count": null,
      "outputs": []
    },
    {
      "cell_type": "code",
      "metadata": {
        "colab": {
          "background_save": true
        },
        "id": "GmzsTeLETNxL"
      },
      "source": [
        "learn.fit_one_cycle(n_epoch=2, \n",
        "                    cbs=[SaveModelCallback(every_epoch=True, \n",
        "                                          fname='melanoma_DICOM_resnet34_stage5'),\n",
        "                         EarlyStoppingCallback(monitor='valid_loss', \n",
        "                                  min_delta=0.1, \n",
        "                                  patience=2)]\n",
        "                    )"
      ],
      "execution_count": null,
      "outputs": []
    },
    {
      "cell_type": "code",
      "metadata": {
        "colab": {
          "background_save": true
        },
        "id": "_ZOnoeGBTcI0"
      },
      "source": [
        "learn.unfreeze()"
      ],
      "execution_count": null,
      "outputs": []
    },
    {
      "cell_type": "code",
      "metadata": {
        "colab": {
          "background_save": true
        },
        "id": "ASThyiXBYLlj"
      },
      "source": [
        "learn.fit_one_cycle(n_epoch=4, \n",
        "                    cbs=[SaveModelCallback(every_epoch=True, \n",
        "                                          fname='melanoma_DICOM_resnet34_stage5'),\n",
        "                         EarlyStoppingCallback(monitor='valid_loss', \n",
        "                                  min_delta=0.1, \n",
        "                                  patience=1)]\n",
        "                    )"
      ],
      "execution_count": null,
      "outputs": []
    },
    {
      "cell_type": "code",
      "metadata": {
        "colab": {
          "background_save": true
        },
        "id": "oSi8QdheEq8Y"
      },
      "source": [
        "learn.fine_tune(2)"
      ],
      "execution_count": null,
      "outputs": []
    },
    {
      "cell_type": "code",
      "metadata": {
        "colab": {
          "background_save": true
        },
        "id": "YjX7NufMQHsf"
      },
      "source": [
        "learn.save('melanoma-DICOM-resnet34-final')"
      ],
      "execution_count": null,
      "outputs": []
    },
    {
      "cell_type": "code",
      "metadata": {
        "colab": {
          "background_save": true
        },
        "id": "k9qCXUFRTgAP"
      },
      "source": [
        "learn.export(fname='/content/gdrive/MyDrive/Colab Notebooks/kaggle/melanoma/models/Melanoma_DICOM_resnet_final')"
      ],
      "execution_count": null,
      "outputs": []
    },
    {
      "cell_type": "markdown",
      "metadata": {
        "id": "evEKnTFpQHsg"
      },
      "source": [
        "## 4. Results"
      ]
    },
    {
      "cell_type": "code",
      "metadata": {
        "id": "wZ4sf2OOQHsg"
      },
      "source": [
        "# test = os.listdir(dicom_path)[10]\n",
        "# test\n",
        "\n",
        "test = train_files[10]\n",
        "learn.predict(test)"
      ],
      "execution_count": null,
      "outputs": []
    },
    {
      "cell_type": "code",
      "metadata": {
        "id": "O13JY6k9_cN9"
      },
      "source": [
        "learn.show_results(max_n=6)"
      ],
      "execution_count": null,
      "outputs": []
    },
    {
      "cell_type": "code",
      "metadata": {
        "id": "RojvQbJbQHsg"
      },
      "source": [
        "interp = Interpretation.from_learner(learn)"
      ],
      "execution_count": null,
      "outputs": []
    },
    {
      "cell_type": "code",
      "metadata": {
        "id": "U3Jq7Rx3QHsh"
      },
      "source": [
        "interp.plot_top_losses(12)"
      ],
      "execution_count": null,
      "outputs": []
    },
    {
      "cell_type": "code",
      "metadata": {
        "id": "G0YXc175fucZ"
      },
      "source": [
        "# Confusion Matrix\n",
        "\n",
        "int_confusion = ClassificationInterpretation.from_learner(learn)\n",
        "\n",
        "losses, idxs = int_confusion.top_losses()\n",
        "len(dls.valid_ds)==len(losses)==len(idxs)\n",
        "int_confusion.plot_confusion_matrix(figsize=(8,8))"
      ],
      "execution_count": null,
      "outputs": []
    },
    {
      "cell_type": "code",
      "metadata": {
        "id": "3fA6gV2Cg1_9"
      },
      "source": [
        "# Sensitivity and Specificity\n",
        "\n",
        "upp, low = int_confusion.confusion_matrix()\n",
        "tn, fp = upp[0], upp[1]\n",
        "fn, tp = low[0], low[1]\n",
        "print(tn, fp, fn, tp)\n",
        "\n",
        "sensitivity = tp/(tp + fn)\n",
        "print(f'Sensitivity is : {sensitivity}')\n",
        "\n",
        "specificity = tn /(tn + fp)\n",
        "print(f'Sepcificity is : {specificity}')"
      ],
      "execution_count": null,
      "outputs": []
    },
    {
      "cell_type": "markdown",
      "metadata": {
        "id": "K8jFKiwNQHsh"
      },
      "source": [
        "## 4.2 test_set results\n",
        "\n"
      ]
    },
    {
      "cell_type": "code",
      "metadata": {
        "id": "Y6lee79vQHsi"
      },
      "source": [
        "# get the test files\n",
        "\n",
        "test_path = path/'test'\n",
        "test_img = get_dicom_files(test_path)\n",
        "\n",
        "# for testing purpose only firs 100 instances\n",
        "\n",
        "test_set = test_img[:100]"
      ],
      "execution_count": null,
      "outputs": []
    },
    {
      "cell_type": "code",
      "metadata": {
        "id": "MYJI7Om2QHsj"
      },
      "source": [
        "## 4.3 create submission file\n",
        "\n",
        "sample_df = pd.read_csv('sample_submission.csv')\n",
        "\n",
        "# delete entries in target col since place for predictions\n",
        "del sample_df['target']\n",
        "\n",
        "# get predictions for sample_df\n",
        "\n",
        "sample_list = []\n",
        "\n",
        "for i in test_set:\n",
        "    pred = learn.predict(i)\n",
        "    pred_class = pred[2][1] # need convert to float() ?\n",
        "    sample_list.append(pred_class)\n",
        "    \n"
      ],
      "execution_count": null,
      "outputs": []
    },
    {
      "cell_type": "code",
      "metadata": {
        "id": "Wo3pxAFRQHsj"
      },
      "source": [
        "results_df = pd.DataFrame({'image_name': sample_df['image_name'], 'target': sample_list })\n",
        "\n",
        "results_df.head()"
      ],
      "execution_count": null,
      "outputs": []
    },
    {
      "cell_type": "code",
      "metadata": {
        "id": "JkcMW2aPQHsj"
      },
      "source": [
        "results_df.to_csv('submission.csv', index= False)"
      ],
      "execution_count": null,
      "outputs": []
    },
    {
      "cell_type": "code",
      "metadata": {
        "id": "S24kQX9nQHsk"
      },
      "source": [
        ""
      ],
      "execution_count": null,
      "outputs": []
    }
  ]
}